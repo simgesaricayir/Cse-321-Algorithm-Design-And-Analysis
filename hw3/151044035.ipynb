{
 "cells": [
  {
   "cell_type": "markdown",
   "metadata": {},
   "source": [
    "# Part 1 Breadth-First Search (BFS) with decrease and conquer algorithm"
   ]
  },
  {
   "cell_type": "code",
   "execution_count": 11,
   "metadata": {},
   "outputs": [
    {
     "name": "stdout",
     "output_type": "stream",
     "text": [
      "[2, 3, 4, 5, 8, 6, 9, 10, 7]\n"
     ]
    }
   ],
   "source": [
    "import pandas as pd\n",
    "from pandas import ExcelFile\n",
    "\n",
    "def bfs(graph, root,visited=[]):\n",
    "    queue = [root]\n",
    "    while queue:\n",
    "        vertex = queue.pop(0)\n",
    "        for w in graph[vertex]:\n",
    "            if w not in visited:\n",
    "                visited.append(w)\n",
    "                queue.append(w)\n",
    "\n",
    "df = pd.read_excel('Graph_data.XLS')\n",
    "graph = []\n",
    "\n",
    "for i in range (3,19):\n",
    "    graph.append([])\n",
    "\n",
    "graph[df['Root vertex'][3]].append(df[1][2])\n",
    "for i in range (3,19):\n",
    "    x =df['Root vertex'][i]\n",
    "    graph[x].append(df[1][i])\n",
    "visited = []\n",
    "bfs(graph,1,visited)\n",
    "print(visited) \n"
   ]
  },
  {
   "cell_type": "markdown",
   "metadata": {},
   "source": [
    "For implementing Bfs with decrease and conquer algoritm there should be a graph to hold all edges.Edges are holding in the excel file so firstly excel file was read.Graph is declared as two dimensional array and they are holded with adjaceny matrix.All edges are read from the file and added to graph as an array.Then bfs function is called.\n",
    "\n",
    "Declaring graph with reading file and adding array is needed two for loops.Firstly, O(n) + O(n) time is required.---> O(n)\n",
    "\n",
    "Bfs algorithm uses a queue to decrease.It takes a root vertex and starts with it.While loop is checks every vertex in the queue.\n",
    "Vertices are popped from the queue and it's all neighbours are visited, if they are not visited.If vertex is visited then, it is added to the visited list and queue.\n",
    "\n",
    "Graph is implemented as an adjacency matrix (a V x V array), then, for each node, it has to traverse an entire row of length V in the matrix to discover all its outgoing edges.So bfs algoritm uses two loop.Time complexity of algorithm is O(V^2)"
   ]
  },
  {
   "cell_type": "markdown",
   "metadata": {},
   "source": [
    "# Part 1 Depth-First Search(DFS) with decrease and conquer algorithm"
   ]
  },
  {
   "cell_type": "code",
   "execution_count": 12,
   "metadata": {
    "scrolled": true
   },
   "outputs": [
    {
     "name": "stdout",
     "output_type": "stream",
     "text": [
      "[1, 2, 4, 5, 6, 7, 8, 9, 10, 3]\n"
     ]
    }
   ],
   "source": [
    "import pandas as pd\n",
    "from pandas import ExcelFile\n",
    "\n",
    "def dfs_recursive(graph, vertex, path=[]):\n",
    "    path += [vertex]\n",
    "\n",
    "    for neighbor in graph[vertex]:\n",
    "        if neighbor not in path:\n",
    "            path = dfs_recursive(graph, neighbor, path)\n",
    "    return path\n",
    "\n",
    "df = pd.read_excel('Graph_data.XLS')\n",
    "graph = []\n",
    "path=[]\n",
    "\n",
    "for i in range (3,19):\n",
    "    graph.append([])\n",
    "\n",
    "graph[df['Root vertex'][3]].append(df[1][2])\n",
    "for i in range (3,19):\n",
    "    x =df['Root vertex'][i]\n",
    "    graph[x].append(df[1][i])\n",
    "\n",
    "dfs_recursive(graph,1,path)\n",
    "print(path) "
   ]
  },
  {
   "cell_type": "markdown",
   "metadata": {},
   "source": [
    "For implementing Dfs with decrease and conquer algoritm there should be a graph to hold all edges like bfs algorithm.Edges are holding in the excel file so firstly excel file was read.Graph is declared as two dimensional array they are holded with adjaceny matrix.All edges are read from the file and added to graph as an array.Then dfs function is called with root is 1.\n",
    "\n",
    "Declaring graph with reading file and adding array is needed two for loops.Firstly,reading all edges with two loop is,\n",
    "O(E) + O(E) time is required.---> O(n) ( E is edge number in the graph)\n",
    "\n",
    "DFS algorithm is a recursive algorithm that uses the idea of backtracking.It recursively visits vertices.It takes a root vertex then visits all neigbours of this vertex and if they are not in the path list send them recursively dfs function to add them path and visit their neighbours.After it returns the path that sequence of visited vertices.\n",
    "\n",
    "Graph is implemented as an adjacency matrix (a V x V array), then, for each node, it has to traverse an entire row of length V in the matrix to discover all its outgoing edges.Each row in an adjacency matrix corresponds to a node in the graph, and the said row stores information about edges stemming from the node. So, the complexity of DFS is O(V * V) = O(V^2)."
   ]
  },
  {
   "cell_type": "markdown",
   "metadata": {},
   "source": [
    "# Part 2 One-Pile NIM  game with decrease and conquer algorithm"
   ]
  },
  {
   "cell_type": "code",
   "execution_count": 13,
   "metadata": {},
   "outputs": [
    {
     "name": "stdout",
     "output_type": "stream",
     "text": [
      "Player 1 Enter a pile num>>> 4\n",
      "Player 1 was played  left chips: 16\n",
      "Player 2 Enter a pile num >>> 3\n",
      "Player 2 was played  left chips: 13\n",
      "Player 1 Enter a pile num>>> 6\n",
      "Wrong number.Enter a chip num? 2\n",
      "Player 1 was played  left chips: 11\n",
      "Player 2 Enter a pile num >>> 3\n",
      "Player 2 was played  left chips: 8\n",
      "Player 1 Enter a pile num>>> 4\n",
      "Player 1 was played  left chips: 4\n",
      "Player 2 Enter a pile num >>> 4\n",
      "Player 2 was played  left chips: 0\n",
      "Player2 is winner\n"
     ]
    }
   ],
   "source": [
    "def OneMileNIM(N,M,gamer1_move,gamer2_move,term):\n",
    "    if term == 1 :\n",
    "          gamer1_move = int(input(\"Player 1 Enter a pile num>>> \"))\n",
    "          while gamer1_move > M or gamer1_move ==0:\n",
    "              gamer1_move = int(input(\"Wrong number.Enter a chip num? \"))\n",
    "          N = N - gamer1_move\n",
    "          print(\"Player 1 was played\",\" left chips:\",N)\n",
    "          if N==0:\n",
    "              if term == 1:\n",
    "                print(\"Player1 is winner\")\n",
    "                return\n",
    "              if term == 2:\n",
    "                print(\"Player2 is winner\")\n",
    "                return\n",
    "          term = 2\n",
    "          OneMileNIM(N,M,gamer1_move,gamer2_move,term) \n",
    "    elif term == 2 :\n",
    "          gamer2_move = int(input(\"Player 2 Enter a pile num >>> \"))\n",
    "          while gamer2_move > M or gamer2_move ==0:\n",
    "              gamer2_move = int(input(\"Wrong number.Enter a chip num? \"))\n",
    "          N = N - gamer2_move\n",
    "          print(\"Player 2 was played\",\" left chips:\",N)\n",
    "          if N==0:\n",
    "              if term == 1:\n",
    "                print(\"Player1 is winner\")\n",
    "                return \n",
    "              if term == 2:\n",
    "                print(\"Player2 is winner\")\n",
    "                return\n",
    "          term = 1\n",
    "          OneMileNIM(N,M,gamer1_move,gamer2_move,term) \n",
    "         \n",
    "            \n",
    "            \n",
    "M = 4\n",
    "N = 20\n",
    "OneMileNIM(N,M,0,0,1)  \n",
    "  "
   ]
  },
  {
   "cell_type": "markdown",
   "metadata": {},
   "source": [
    "OneMileNIM is a recursive function.It starts with the player 1.It means that there is a winner.Every call term is changed player1 to player2 or player2 to player1.If N is not equal zero , player which has the term plays with the input.It can take at most m and at least 1 chip.It continues until the N is equal 0.\n",
    "\n",
    "Worst case : If both players take 1 chip every move so function is called N(Number of chips) times. ---> O(N)\n",
    "\n",
    "Best case: If M is between N/2 and N so complexiy of best case is ---> Ω(1)\n"
   ]
  },
  {
   "cell_type": "markdown",
   "metadata": {},
   "source": [
    "# Part 3 whether there is an index i for which A[i] = i"
   ]
  },
  {
   "cell_type": "code",
   "execution_count": 2,
   "metadata": {},
   "outputs": [
    {
     "name": "stdout",
     "output_type": "stream",
     "text": [
      "İndex is  4\n"
     ]
    }
   ],
   "source": [
    "def Search(inputArray, left, right): # search the given array with binary search tecnique \n",
    "    if right >= left: \n",
    "        mid = (left + right)//2\n",
    "    if mid == inputArray[mid]: #if index number is equal to data in that index return it.\n",
    "        return mid   \n",
    "    elif mid > inputArray[mid]: \n",
    "        return Search(inputArray, (mid + 1), right) \n",
    "    else: \n",
    "        return Search(inputArray, left, (mid -1)) \n",
    "    return -1#if it could not found return -1 \n",
    "  \n",
    "arr = [-14, 17, 0, 8, 4, 11, 33, 67, 25,98] \n",
    "print(\"İndex is \" ,(Search(arr, 0, len(arr)-1))) "
   ]
  },
  {
   "cell_type": "markdown",
   "metadata": {},
   "source": [
    "Search function is a recursive and uses divide and conquer algorithm to find index i for which A[i]=i.It takes three parameters.\n",
    "Array , left index that is 0 at start and right index is length of array -1 at start.\n",
    "\n",
    "T(n) = T(n-1)+T(n+1)+1 ----> solving the recurrence complexity is ; O(logn)"
   ]
  },
  {
   "cell_type": "markdown",
   "metadata": {},
   "source": [
    "# Part 4 finds a contiguous subset"
   ]
  },
  {
   "cell_type": "code",
   "execution_count": 10,
   "metadata": {},
   "outputs": [
    {
     "name": "stdout",
     "output_type": "stream",
     "text": [
      "Maximum contiguous sum is  28\n"
     ]
    }
   ],
   "source": [
    "def maxSubArraySum(arr, left, right) : \n",
    "\n",
    "    if (left == right) : \n",
    "        return arr[left] \n",
    "  \n",
    "    mid = (left + right) // 2\n",
    "    \n",
    "    return max(maxSubArraySum(arr, left, mid), \n",
    "               maxSubArraySum(arr, mid+1, right), \n",
    "               maxSum(arr, left, mid, right)) \n",
    "\n",
    "def maxSum(arr, left, mid, right) : \n",
    "    sumOfArr = 0; leftSum = -10000\n",
    "    for i in range(mid, left-1, -1) : \n",
    "        sumOfArr = sumOfArr + arr[i] \n",
    "        if (sumOfArr > leftSum) : \n",
    "            leftSum = sumOfArr \n",
    "      \n",
    "    sumOfArr = 0; rightSum = -1000\n",
    "    for i in range(mid+1, right+1) : \n",
    "        sumOfArr = sumOfArr + arr[i] \n",
    "        if (sumOfArr > rightSum) : \n",
    "            rightSum = sumOfArr \n",
    "    return leftSum + rightSum; \n",
    "              \n",
    "    \n",
    "arr = [2, 3, -40, 5, 7,-2,18,-19] \n",
    "  \n",
    "maxSum = maxSubArraySum(arr, 0, len(arr) -1) \n",
    "print(\"Maximum contiguous sum is \", maxSum) "
   ]
  },
  {
   "cell_type": "markdown",
   "metadata": {},
   "source": [
    "maxSubArraySum is a recursive function and it calls maxSum function which calculates to sum range of specified indexes divided to part left and right and sum them.\n",
    "The main function divides array two parts and send them the same function recursively like merge sort algorithm.Also maxSum function returns sum.Return the maximum one.\n",
    "maxSum function uses two for loop ---> O(n)+O(n) = O(n)\n",
    "muxSubArraySum calls itself two times with the half of it's size\n",
    "T(n) = 2T(n/2)+O(n)\n",
    "The above recurrence can be solved using Master Theorem.Complexity is O(nlogn)"
   ]
  },
  {
   "cell_type": "markdown",
   "metadata": {},
   "source": [
    "# Part 5 recursive algorithm that checks whether a given pattern is valid"
   ]
  },
  {
   "cell_type": "code",
   "execution_count": 5,
   "metadata": {},
   "outputs": [
    {
     "name": "stdout",
     "output_type": "stream",
     "text": [
      "tobeornottobe True\n",
      "tobeornotajskdktobe False\n",
      "tobeornotototobe False\n",
      "tobeornottobenottobe True\n"
     ]
    }
   ],
   "source": [
    "def searchString(text,sub,result,index,validIndex):\n",
    "    my_dict = {'to' : 'A', 'be' : 'B','or' : 'C','not' : 'D'}\n",
    "    if \"to\" in sub:\n",
    "        result+=(my_dict['to'])\n",
    "        sub = \"\"\n",
    "        validIndex+=2\n",
    "    if 'be' in sub:\n",
    "        result+=(my_dict['be'])\n",
    "        sub = \"\"\n",
    "        validIndex+=2\n",
    "    if 'or' in sub:\n",
    "        result+=(my_dict['or'])\n",
    "        sub = \"\"\n",
    "        validIndex+=2\n",
    "    if 'not'in sub:\n",
    "        result+=(my_dict['not'])\n",
    "        sub = \"\"\n",
    "        validIndex+=3\n",
    "    if index == len(text):\n",
    "        if validIndex == len(text):\n",
    "            return True\n",
    "        else:\n",
    "            return False\n",
    "    else:\n",
    "        sub += text[index]\n",
    "        return searchString(text,sub,result,index+1,validIndex)\n",
    "\n",
    "text = \"tobeornottobe\"\n",
    "result = \"\"\n",
    "print(text,searchString(text,result,\"\",-1,0))\n",
    "text = \"tobeornotajskdktobe\"\n",
    "print(text,searchString(text,result,\"\",-1,0))\n",
    "text = \"tobeornotototobe\"\n",
    "print(text,searchString(text,result,\"\",-1,0))\n",
    "text = \"tobeornottobenottobe\"\n",
    "print(text,searchString(text,result,\"\",-1,0))"
   ]
  },
  {
   "cell_type": "markdown",
   "metadata": {},
   "source": [
    "searchString is a recursive function which searchs a string for specified letters.If it contains only specified letters it is a pattern.It returns true otherwise it returns false.\n",
    "\n",
    "It runs length of string time.It calls itself for every index and add it sub variable to check.Also there is validIndex parameter which holds the valid letters number.If it is equal to length of the string it is a valid pattern otherwise it is not valid.\n",
    "\n",
    "Time complexity : T(n) = T(n) + 1 ---> O(n) "
   ]
  }
 ],
 "metadata": {
  "kernelspec": {
   "display_name": "Python 3",
   "language": "python",
   "name": "python3"
  },
  "language_info": {
   "codemirror_mode": {
    "name": "ipython",
    "version": 3
   },
   "file_extension": ".py",
   "mimetype": "text/x-python",
   "name": "python",
   "nbconvert_exporter": "python",
   "pygments_lexer": "ipython3",
   "version": "3.7.0"
  }
 },
 "nbformat": 4,
 "nbformat_minor": 2
}
